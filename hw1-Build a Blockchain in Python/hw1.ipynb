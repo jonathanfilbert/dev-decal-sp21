{
  "cells": [
    {
      "cell_type": "markdown",
      "metadata": {
        "id": "9ch9yQfIbdgT"
      },
      "source": [
        "# Build a Blockchain! - Blockchain Design Exercises"
      ]
    },
    {
      "cell_type": "markdown",
      "metadata": {
        "id": "ujWKbh9gbdgX"
      },
      "source": [
        "## HW1 - Build a Blockchain in Python\n",
        "\n",
        "#### Getting Started\n",
        "\n",
        "CS 198-077 Spring 2020 \n",
        "HW1-Build a Blockchain in Python\n",
        "\n",
        "Created by Omkar Shanbhag, Updated by Simon Guo\n",
        "\n",
        "This notebook is meant to be a short introduction to Blockchain implementations, aimed at helping us take the topics we learn about in fundamentals, and seeing how they translate to code. \n",
        "\n",
        "In this notebook we will implement various different aspects of Blockchain technology that we understand including: \n",
        "\n",
        "- The Blockchain Data Structure using OOP \n",
        "- A proof of work simulation \n",
        "- Understanding of the concept of difficulty of finding the next block hash \n",
        "- A simulation of multiple miners with varying computational powers \n",
        "- A bit of data analytics to see if what we've implemented makes sense "
      ]
    },
    {
      "cell_type": "code",
      "source": [
        "!pip install ipyparallel\n",
        "!pip install numpy"
      ],
      "metadata": {
        "id": "Sc9w0QTucRe2",
        "colab": {
          "base_uri": "https://localhost:8080/"
        },
        "outputId": "f8fd34d2-6e6b-4b25-95bb-188181542a22"
      },
      "execution_count": null,
      "outputs": [
        {
          "output_type": "stream",
          "name": "stdout",
          "text": [
            "Requirement already satisfied: ipyparallel in /usr/local/lib/python3.7/dist-packages (8.1.0)\n",
            "Requirement already satisfied: python-dateutil>=2.1 in /usr/local/lib/python3.7/dist-packages (from ipyparallel) (2.8.2)\n",
            "Requirement already satisfied: entrypoints in /usr/local/lib/python3.7/dist-packages (from ipyparallel) (0.4)\n",
            "Requirement already satisfied: pyzmq>=18 in /usr/local/lib/python3.7/dist-packages (from ipyparallel) (22.3.0)\n",
            "Requirement already satisfied: decorator in /usr/local/lib/python3.7/dist-packages (from ipyparallel) (4.4.2)\n",
            "Requirement already satisfied: traitlets>=4.3 in /usr/local/lib/python3.7/dist-packages (from ipyparallel) (5.1.1)\n",
            "Requirement already satisfied: tqdm in /usr/local/lib/python3.7/dist-packages (from ipyparallel) (4.62.3)\n",
            "Requirement already satisfied: tornado>=5.1 in /usr/local/lib/python3.7/dist-packages (from ipyparallel) (5.1.1)\n",
            "Requirement already satisfied: ipython>=4 in /usr/local/lib/python3.7/dist-packages (from ipyparallel) (5.5.0)\n",
            "Requirement already satisfied: jupyter-client in /usr/local/lib/python3.7/dist-packages (from ipyparallel) (5.3.5)\n",
            "Requirement already satisfied: psutil in /usr/local/lib/python3.7/dist-packages (from ipyparallel) (5.4.8)\n",
            "Requirement already satisfied: ipykernel>=4.4 in /usr/local/lib/python3.7/dist-packages (from ipyparallel) (4.10.1)\n",
            "Requirement already satisfied: pickleshare in /usr/local/lib/python3.7/dist-packages (from ipython>=4->ipyparallel) (0.7.5)\n",
            "Requirement already satisfied: prompt-toolkit<2.0.0,>=1.0.4 in /usr/local/lib/python3.7/dist-packages (from ipython>=4->ipyparallel) (1.0.18)\n",
            "Requirement already satisfied: simplegeneric>0.8 in /usr/local/lib/python3.7/dist-packages (from ipython>=4->ipyparallel) (0.8.1)\n",
            "Requirement already satisfied: pygments in /usr/local/lib/python3.7/dist-packages (from ipython>=4->ipyparallel) (2.6.1)\n",
            "Requirement already satisfied: setuptools>=18.5 in /usr/local/lib/python3.7/dist-packages (from ipython>=4->ipyparallel) (57.4.0)\n",
            "Requirement already satisfied: pexpect in /usr/local/lib/python3.7/dist-packages (from ipython>=4->ipyparallel) (4.8.0)\n",
            "Requirement already satisfied: six>=1.9.0 in /usr/local/lib/python3.7/dist-packages (from prompt-toolkit<2.0.0,>=1.0.4->ipython>=4->ipyparallel) (1.15.0)\n",
            "Requirement already satisfied: wcwidth in /usr/local/lib/python3.7/dist-packages (from prompt-toolkit<2.0.0,>=1.0.4->ipython>=4->ipyparallel) (0.2.5)\n",
            "Requirement already satisfied: jupyter-core>=4.6.0 in /usr/local/lib/python3.7/dist-packages (from jupyter-client->ipyparallel) (4.9.1)\n",
            "Requirement already satisfied: ptyprocess>=0.5 in /usr/local/lib/python3.7/dist-packages (from pexpect->ipython>=4->ipyparallel) (0.7.0)\n",
            "Requirement already satisfied: numpy in /usr/local/lib/python3.7/dist-packages (1.19.5)\n"
          ]
        }
      ]
    },
    {
      "cell_type": "code",
      "execution_count": null,
      "metadata": {
        "id": "P16TqjCEbdgY"
      },
      "outputs": [],
      "source": [
        "#Import statements\n",
        "import hashlib as hasher \n",
        "import random as rand\n",
        "import time \n",
        "import datetime as date\n",
        "import ipyparallel as ipp\n",
        "import numpy as np\n",
        "import matplotlib.pyplot as plt"
      ]
    },
    {
      "cell_type": "markdown",
      "metadata": {
        "id": "s0HIiNvGbdga"
      },
      "source": [
        "# Blockchain Data Structure Design"
      ]
    },
    {
      "cell_type": "markdown",
      "metadata": {
        "id": "wNZyKJ2hbdga"
      },
      "source": [
        "In this section we will define the class \"Block\" and create an init function that creates a new block given some parameters, as well as a function hash_block, that computes the hash of this block based on its class variables. \n",
        "\n",
        "The init function is implemented for you below and creates a block with the following specifications \n",
        "- Index --> the index of the block on the chain (zero indexed)\n",
        "- Timestamp --> time that the block was added on to the chain\n",
        "- data --> The data the block contains (Usually points to root of merkel tree, but we can fill it with whatever for this)\n",
        "- previous_hash --> The hash value of the previous block \n",
        "- hash --> hash of this block computed using the hash_block function\n",
        "- nonce --> the variable value that we change to alter the hash output (Default value = 0, irrelevant in this section)\n",
        "\n",
        "****QUESTION #1: Implement hash_block()****\n",
        "\n",
        "We need to implement the hash_block() which computes the hash value of this block based on how we initialize it. This function takes in no parameters. \n",
        "\n",
        "Desired Functionality:\n",
        "- Concatenate string representations of all the class variables \n",
        "- Computes the SHA256 hash of this concatenation \n",
        "\n",
        "-- HINTS --\n",
        "\n",
        "- use the first import statement!!! \n",
        "- initialize a new hasher\n",
        "- Look into the following words \n",
        "    - utf-8 encoding \n",
        "    - .update() function \n",
        "    - .hexdigest() function\n",
        "    - In order for the test function below to work properly, create the string concatenation in the following order with no spaces or any other characters in between \n",
        "       - index\n",
        "       - timestamp\n",
        "       - data\n",
        "       - previous block hash\n",
        "       - nonce\n",
        "     - If you want to do it another order that incorporates everything thats totally fine, but test function wont work!"
      ]
    },
    {
      "cell_type": "markdown",
      "metadata": {
        "id": "5QiZ3Gr8bdgb"
      },
      "source": [
        ""
      ]
    },
    {
      "cell_type": "code",
      "execution_count": null,
      "metadata": {
        "id": "nsxjBXXcbdgc"
      },
      "outputs": [],
      "source": [
        "class Block:\n",
        "    def __init__(self, index, timestamp, data, previous_hash, nonce=0):\n",
        "        self.index = index\n",
        "        self.timestamp = timestamp\n",
        "        self.data = data\n",
        "        self.nonce = nonce #set to zero as default not applicable in first section \n",
        "        self.previous_hash = previous_hash\n",
        "        self.hash = self.hash_block()\n",
        "    # Solution\n",
        "    def hash_block(self):\n",
        "        # Create a concatenated version of the required attrs\n",
        "        concatenated = \"{}{}{}{}{}\".format(self.index, self.timestamp, self.data, self.previous_hash, self.nonce)\n",
        "        # Encode the concatenated string into UTF-8\n",
        "        encoded = concatenated.encode(\"UTF-8\")\n",
        "        # Hash the encoded string with SHA-256 and digest into a hex string\n",
        "        result = hasher.sha256(encoded).hexdigest()\n",
        "        # Return the hex string\n",
        "        return result\n"
      ]
    },
    {
      "cell_type": "markdown",
      "metadata": {
        "id": "acDDTSlNbdge"
      },
      "source": [
        "**TEST YOUR QUESTION 1 CODE HERE**\n",
        "\n",
        "Run the block of code below"
      ]
    },
    {
      "cell_type": "code",
      "execution_count": null,
      "metadata": {
        "colab": {
          "base_uri": "https://localhost:8080/"
        },
        "id": "w_SKNdRKbdge",
        "outputId": "8541d959-92a8-410a-abc0-864a3fcf70f9"
      },
      "outputs": [
        {
          "output_type": "stream",
          "name": "stdout",
          "text": [
            "PASSED!!! Move on to next Question\n"
          ]
        }
      ],
      "source": [
        "def test_question_1(index, time, data, previous_hash):\n",
        "    new_block = Block(index, time, data, previous_hash)\n",
        "    check_string = '2def27922fc1c67254a9cdb0c660b91abf9b135ad38fc13c7c77007448b824a0'\n",
        "    print_statement = \"PASSED!!! Move on to next Question\" if str(new_block.hash) == check_string else \"FAILED!!! Try Again\"\n",
        "    print(print_statement)\n",
        "    \n",
        "time = '2019-10-17 00:37:35.256774'\n",
        "data = 'Machine Learning Blockchain AI'\n",
        "previous_hash = '6ffd1464f68ef4aeb385d399244efa19293ba5c842c464a82c02f8256ef71428'\n",
        "index = 0\n",
        "    \n",
        "test_question_1(index, time, data, previous_hash)"
      ]
    },
    {
      "cell_type": "markdown",
      "metadata": {
        "id": "R8yx69sabdgf"
      },
      "source": [
        "**Functions for Building the Chain**\n",
        "\n",
        "Now that we have our class Block completed, lets figure out how to make a chain out of them. For a chain, we need to first have a function that creates a genesis block, which serves as the first block of our chain, and then create the function next_block() which builds a new block on top of a given block.\n",
        "\n",
        "create_genesis_block() has been implemented for you. It creates a block with the following specifications. \n",
        "- index = 0\n",
        "- timestamp = Now (whenever the function is being called) \n",
        "- data = \"Genesis Block\"\n",
        "- previous_hash = \"0\"\n",
        "\n",
        "**QUESTION #2: Implement next_block()**\n",
        "\n",
        "We need to implement the function next_block() which takes in 1 parameter:\n",
        "- Last_block = an instance of class Block that is the block that we're building our next block on top of \n",
        "- nonce = Dont do anything with this right now - just pass it in to the Block that you create using the default \n",
        "\n",
        "We want to implement the function so that it returns a new instance of the class Block with the following specifications\n",
        "- index = index of last_block + 1\n",
        "- timestamp = Now (whenever the function is being called)\n",
        "- data = \"Hey! I'm block {index}\"  (for example block w/ index 5 would have data: \"Hey! I'm block 5\")\n",
        "- previous_hash = hash of last_block"
      ]
    },
    {
      "cell_type": "code",
      "execution_count": null,
      "metadata": {
        "id": "yeIIR9EIbdgf"
      },
      "outputs": [],
      "source": [
        "#Creates the first block with current time and generic data\n",
        "def create_genesis_block():\n",
        "    # Manually construct a block with\n",
        "    # index zero and arbitrary previous hash\n",
        "    return Block(0, date.datetime.now(), \"Genesis Block\", \"0\")\n",
        "\n",
        "#Function that creates the next block, given the last block on the chain you want to mine on\n",
        "def next_block(last_block, nonce=0):\n",
        "    #Your code for QUESTION 2 here\n",
        "    new_index = last_block.index+1\n",
        "    new_timestamp = date.datetime.now()\n",
        "    new_data = \"Hey! I'm block {}\".format(new_index)\n",
        "    new_previous_hash = last_block.hash\n",
        "    return Block(new_index, new_timestamp, new_data, new_previous_hash, nonce)\n",
        "    "
      ]
    },
    {
      "cell_type": "markdown",
      "metadata": {
        "id": "F50TUrfUbdgg"
      },
      "source": [
        "**TEST YOUR QUESTION 2 CODE HERE**\n",
        "\n",
        "Run the block of code below"
      ]
    },
    {
      "cell_type": "code",
      "execution_count": null,
      "metadata": {
        "id": "bgIHa_W6bdgg",
        "outputId": "eebbf5ee-6f6d-490e-a388-c4cdaaf3ec4b",
        "colab": {
          "base_uri": "https://localhost:8080/"
        }
      },
      "outputs": [
        {
          "output_type": "stream",
          "name": "stdout",
          "text": [
            "PASSED!!! Move on to next part\n"
          ]
        }
      ],
      "source": [
        "def test_question_2(genesis_block):\n",
        "    block_1 = next_block(genesis_block)\n",
        "    if block_1.index == 1 and block_1.data == \"Hey! I'm block 1\" and block_1.previous_hash == genesis_block.hash and str(type(block_1.timestamp)) == \"<class 'datetime.datetime'>\":\n",
        "        print(\"PASSED!!! Move on to next part\" )\n",
        "    else:\n",
        "        print(\"FAILED!!! Try again :(\")\n",
        "    \n",
        "\n",
        "genesis_block = create_genesis_block()\n",
        "test_question_2(genesis_block)"
      ]
    },
    {
      "cell_type": "markdown",
      "metadata": {
        "id": "LgpPuLKzbdgh"
      },
      "source": [
        "**Spinning up a Chain**\n",
        "\n",
        "Now that we've created the data structure as well as the functions needed to create the chain, lets see how spinning up an actual instance of this would work. \n",
        "\n",
        "Below we initialize three different variables \n",
        "- blockchain - this is a python list which we initialize with one block inside (the genesis block) \n",
        "- previous_block - this points to our genesis block (since it references the first element in blockchain)\n",
        "- num_blocks - this specifies the number of additional blocks we want to add to our chain \n",
        "\n",
        "**QUESTION 3 complete_chain()**\n",
        "\n",
        "We want to complete the implementation of the function complete_chain(). This function takes in three inputs, which correspond to the initializations that we made. It returns nothing, however by the time we are done running it, the list 'blockchain' that we initialized earlier has been turned into an array of length num_blocks + 1 in which each element is an instance of class Block and each element's self.previous_hash == the previous element's self.hash. Therefore we have created our own mini blockchain!! \n",
        "\n",
        "The for loop and the print statements of complete_chain have been implemented for you, you need to add the statements that ***create a new block on top of previous_block, add it to the block chain, and edit previous block so that the for loop can continue correctly*** \n",
        "\n",
        "****HINT **** --> Literally just do all the things listed in the section immediately above in order \n",
        "\n",
        "If it works out, you should get the same number of print statements as num_blocks"
      ]
    },
    {
      "cell_type": "code",
      "execution_count": null,
      "metadata": {
        "id": "Q5rGCPoQbdgh",
        "outputId": "f32a95d0-34da-4c9e-9e87-343bda3c2159",
        "colab": {
          "base_uri": "https://localhost:8080/"
        }
      },
      "outputs": [
        {
          "output_type": "stream",
          "name": "stdout",
          "text": [
            "Block #1 has been added to the blockchain!\n",
            "Hash: 923259a313ee2c7cb3ca9caf328d67ac6259d92c67c933e0a1bbf33808a66f71\n",
            "\n",
            "Block #2 has been added to the blockchain!\n",
            "Hash: 3ca416f9afaca7b49ba59caa7b13dd18d60e858944e4f5663899a0876d9c539d\n",
            "\n",
            "Block #3 has been added to the blockchain!\n",
            "Hash: c631068d67d42a31f14810dbdbb8783161a6b69f992ed4530da4b95de5638f16\n",
            "\n",
            "Block #4 has been added to the blockchain!\n",
            "Hash: c6a6d2731ef123b01801f167c301bafde2c5cc39c18735184d8e40ce505ea68f\n",
            "\n",
            "Block #5 has been added to the blockchain!\n",
            "Hash: 11da3edc5126dba5fc42d41795569b4fd0531273aeda8142d2178aaf656d3f45\n",
            "\n",
            "Block #6 has been added to the blockchain!\n",
            "Hash: 08957aa73b300ff487fba0a388a9aa2481b8fd6df4c5f9da37c1369acfb3642c\n",
            "\n",
            "Block #7 has been added to the blockchain!\n",
            "Hash: 4400804992d4868d0635186bbbf6b24c11721e9f11ccd855b52c6c5a012a4bcc\n",
            "\n",
            "Block #8 has been added to the blockchain!\n",
            "Hash: 1349949280213b9d23b387de5e636b96b54d88945a6122a4fb791dfe622beb61\n",
            "\n",
            "Block #9 has been added to the blockchain!\n",
            "Hash: 9031497b17a4d728cede6c0291d8032716bc7785eb408daa1a7093b894b5595a\n",
            "\n",
            "Block #10 has been added to the blockchain!\n",
            "Hash: e10f2801eafd70cb271e722d81f5d9b1470f2f00691e30fd9bb30acb77f2ac0a\n",
            "\n",
            "Block #11 has been added to the blockchain!\n",
            "Hash: bcd0bff5c76fb7f4d18953c450b120342908d39272e4fd2f1e5ccaf7d6f7d305\n",
            "\n",
            "Block #12 has been added to the blockchain!\n",
            "Hash: f33b0b6d177343b0b1e2fe2bfb4a1fb373c61168a77cccbe5207e947dc1b7329\n",
            "\n",
            "Block #13 has been added to the blockchain!\n",
            "Hash: f8368705ae7bbe92b689f3a4807e5ba120888bcd385fcdb49ebcf12647256b0f\n",
            "\n",
            "Block #14 has been added to the blockchain!\n",
            "Hash: d6e3535afa2074cf347255623ed74b619ceefb14f966a3f65614b25e9d524e28\n",
            "\n",
            "Block #15 has been added to the blockchain!\n",
            "Hash: 1ab9ffb298c1edee9957c1535fafb602c1393f8981b9b676758c009fea5a72bd\n",
            "\n",
            "Block #16 has been added to the blockchain!\n",
            "Hash: 044e2852ec23253643e864aefd596b041577311a4d5775ed448f40d6a9aa36eb\n",
            "\n",
            "Block #17 has been added to the blockchain!\n",
            "Hash: 8b1e32017fd9c9d3f88fff0e64046a078c0b51d22ddd5493a8fc3231fbaa0ac4\n",
            "\n",
            "Block #18 has been added to the blockchain!\n",
            "Hash: b27e2236ed6611145c1ad4b3477fc030706f6dfe71df30b3ea56d150eace3a1b\n",
            "\n",
            "Block #19 has been added to the blockchain!\n",
            "Hash: cbf09e86d6420906f354e7065304dcee69c4847eadf1f84c6dad67fad962d91a\n",
            "\n",
            "Block #20 has been added to the blockchain!\n",
            "Hash: 7072c48903276e47fbba5c8f4d65a02ee6149a2f8785cf17a266aac798863e58\n",
            "\n"
          ]
        }
      ],
      "source": [
        "# Create the blockchain and add the genesis block\n",
        "blockchain = [create_genesis_block()]\n",
        "\n",
        "#Create our initial reference to previous block which points to the genesis block\n",
        "previous_block = blockchain[0]\n",
        "\n",
        "# How many blocks should we add to the chain after the genesis block\n",
        "num_blocks = 20\n",
        "\n",
        "def complete_chain(num_blocks, blockchain, previous_block):\n",
        "    # Add blocks to the chain\n",
        "    for i in range(0, num_blocks):\n",
        "        #Your code for QUESTION 3 Here \n",
        "        block_to_add = next_block(previous_block)\n",
        "        blockchain.append(block_to_add)\n",
        "        previous_block = blockchain[i+1]\n",
        "        \n",
        "        #Your code for QUESTION 3 ends Here\n",
        "        # Tell everyone about it!\n",
        "        print(\"Block #{} has been added to the blockchain!\".format(block_to_add.index))\n",
        "        print(\"Hash: {}\\n\".format(block_to_add.hash))\n",
        "\n",
        "complete_chain(num_blocks, blockchain, previous_block)"
      ]
    },
    {
      "cell_type": "markdown",
      "metadata": {
        "id": "9-wf8ZTsbdgi"
      },
      "source": [
        "**TEST YOUR QUESTION 3 CODE HERE**\n",
        "\n",
        "Run the block of code below"
      ]
    },
    {
      "cell_type": "code",
      "execution_count": null,
      "metadata": {
        "id": "flb8NKDpbdgi",
        "outputId": "d5436839-fa0b-4c8b-c608-f85126fef3fb",
        "colab": {
          "base_uri": "https://localhost:8080/"
        }
      },
      "outputs": [
        {
          "output_type": "stream",
          "name": "stdout",
          "text": [
            "PASSED!!! Move on to the next Part\n"
          ]
        }
      ],
      "source": [
        "def test_question_3(blockchain, num_blocks):\n",
        "    correct = True\n",
        "    if len(blockchain) != num_blocks + 1:\n",
        "        correct = False\n",
        "    for i in range(len(blockchain)-1):\n",
        "        if blockchain[i + 1].previous_hash != blockchain[i].hash:\n",
        "            correct = False\n",
        "            break\n",
        "    print_statement = \"PASSED!!! Move on to the next Part\" if correct else \"FAILED!!! Try Again :(\"\n",
        "    print(print_statement)\n",
        "\n",
        "test_question_3(blockchain, num_blocks)"
      ]
    },
    {
      "cell_type": "markdown",
      "metadata": {
        "id": "Gm721a33bdgi"
      },
      "source": [
        "# Proof of Work Simulation"
      ]
    },
    {
      "cell_type": "markdown",
      "metadata": {
        "id": "SkLlsjl5bdgi"
      },
      "source": [
        "In this section we will be doing a simulation of the proof-of-work consensus mechanism that the Bitcoin Blockchain (among others) uses. Let us define some of the concepts that we will be dealing with in this section. \n",
        "\n",
        "**The Nonce** --> Randomly generated value that we add to our concatenation of our block to add variance to our hashes\n",
        "\n",
        "**Difficulty** --> Specified by the network (in theory, here it is specified by us). Defines the number of hashes that are valid out of all possible values. Higher difficulty indicates a lower number of valid hashes. \n",
        "\n",
        "**QUESTION 4: generate_nonce(), generate_difficulty_bound(), find_next_block()**\n",
        "\n",
        "**Part 1 - Description** \n",
        "\n",
        "The functions **generate_nonce()** and **generate_difficulty_bound()** have been implemented below for you. The first part of this question involves reading through, them understanding them completely, and writing a quick 1 - 2 line summary of what they are supposed to do and how they are implemented (write it in the space given, 2 cells below).\n",
        "\n",
        "**Part 2 - Implementation**\n",
        "\n",
        "The second part of this question is to complete the implementation of find_next_block(). This function's purpose is to try different blocks with the same data, index etc. but different nonces that satisfy the difficulty metric specified. The difficulty bound has already been generated for you and the first block has been created. You have to complete the implementation so that: \n",
        "- You find a nonce such that the hash of the block is less than the difficulty bound. \n",
        "- All data from new block has to be the same (including the timestamp, for simplicity purposes) and the only thing changing is the nonce \n",
        "- For our learning purposes, increment the hashes_tried parameter appropriately everytime you try a hash so that we can see the number of hashes tried and how this correlates to our difficulty value. \n",
        "\n",
        "**HINTS**\n",
        "- How do you turn a hash string into its hex prepresentation that you can compare???\n",
        "- if your implementation is working, you should notice something interesting about all the hashes of the blocks that you are getting when you run the code cell labeled \"Create Proof of work Blockchain\"**\n",
        "\n",
        "\n",
        "\n",
        "**you can test question 4 in the a few cells below this one, after running all the cells in between**"
      ]
    },
    {
      "cell_type": "code",
      "execution_count": null,
      "metadata": {
        "id": "_224G19-bdgj"
      },
      "outputs": [],
      "source": [
        "import time\n",
        "\n",
        "def generate_nonce(length=20):\n",
        "    return ''.join([str(rand.randint(0, 9)) for i in range(length)])\n",
        "\n",
        "def generate_difficulty_bound(difficulty=1):\n",
        "    diff_str = \"\"\n",
        "    for i in range(difficulty):\n",
        "        diff_str += '0'\n",
        "    for i in range(64 - difficulty):\n",
        "        diff_str += 'F'\n",
        "    diff_str = \"0x\" + diff_str  # \"0x\" needs to be added at the front to specify that it is a hex representation\n",
        "    return(int(diff_str, 16))  # Specifies that we want to create an integer of base 16 (as opposed to the default base 10)\n",
        "\n",
        "#Given a previous block and a difficulty metric, finds a nonce that results in a lower hash value\n",
        "def find_next_block(last_block, difficulty, nonce_length):\n",
        "    difficulty_bound = generate_difficulty_bound(difficulty)\n",
        "    start = time.process_time() \n",
        "    new_block = next_block(last_block)\n",
        "    hashes_tried = 1 \n",
        "    #Your code for QUESTION 4 Starts here \n",
        "    hash_found = False\n",
        "    while not hash_found:\n",
        "        new_block.nonce = generate_nonce(nonce_length)\n",
        "        if (int(new_block.hash_block(), 16) < difficulty_bound):\n",
        "            new_block.hash = new_block.hash_block()\n",
        "            hash_found = True\n",
        "        else:\n",
        "            hashes_tried += 1\n",
        "    #Your code for QUESTION 4 Ends here \n",
        "    time_taken = time.process_time() - start\n",
        "    return(time_taken, hashes_tried, new_block)"
      ]
    },
    {
      "cell_type": "markdown",
      "metadata": {
        "id": "aQh0DAd2bdgj"
      },
      "source": [
        "**QUESTION 4 Description Section**\n",
        "\n",
        "Describe the following functions: \n",
        "\n",
        "- generate_nonce():         ######Generate a randomized number based on the difficulty######\n",
        "\n",
        "- generate_difficulty_bound():        ######create an integer representation of the difficulty######"
      ]
    },
    {
      "cell_type": "markdown",
      "metadata": {
        "id": "-dZ-vKe5bdgk"
      },
      "source": [
        "The cell below creates our proof of work blockchain in a similar way that we do in the earlier section. \n",
        "\n",
        "Some initializations:\n",
        "- blockchain_pow: Our new python list that signifies our proof of work blockchain, with the genesis block inside\n",
        "- previous_block: The first block to use as previous block to build upon\n",
        "- num_blocks: number of additional blocks to add to teh chain\n",
        "- difficulty: difficulty of the network \n",
        "- nonce_length: length of the randomly generated nonce"
      ]
    },
    {
      "cell_type": "markdown",
      "metadata": {
        "id": "6G0Mp2ywbdgk"
      },
      "source": [
        "### Create Proof of Work Blockchain "
      ]
    },
    {
      "cell_type": "code",
      "execution_count": null,
      "metadata": {
        "id": "IpuyF5tubdgk",
        "outputId": "394475af-c97e-45a5-f0b8-20918936610d",
        "colab": {
          "base_uri": "https://localhost:8080/"
        }
      },
      "outputs": [
        {
          "output_type": "stream",
          "name": "stdout",
          "text": [
            "Block #1 has been added to the blockchain!\n",
            "1755 Hashes Tried!\n",
            "Time taken to find block: 0.06720161500004451\n",
            "Hash: 000fb3aafe074c94cdd3fa4e5be32fa494b789009f610e8460c34a8607a9a0b5\n",
            "\n",
            "Block #2 has been added to the blockchain!\n",
            "1698 Hashes Tried!\n",
            "Time taken to find block: 0.06415286399999331\n",
            "Hash: 000341e774d080c6db319d332e6e2ad63b5d23687128ea4e77b2bc287513c5b5\n",
            "\n",
            "Block #3 has been added to the blockchain!\n",
            "34 Hashes Tried!\n",
            "Time taken to find block: 0.001328882999985126\n",
            "Hash: 0006d62db3c60d65da21aa4099d22a80a5c0b09d87db3db0fb4fa6d4509ca573\n",
            "\n",
            "Block #4 has been added to the blockchain!\n",
            "2313 Hashes Tried!\n",
            "Time taken to find block: 0.08905384100000902\n",
            "Hash: 0000dcf7a226fb58b1b8aff7dc3499cda6d0ff014c0db774bf3b0dc2ba2bd6bb\n",
            "\n",
            "Block #5 has been added to the blockchain!\n",
            "3843 Hashes Tried!\n",
            "Time taken to find block: 0.15323890600001278\n",
            "Hash: 000080696334a0ec4561732f8af48510eae64ce3ca86c599c85ed5803471d4b0\n",
            "\n",
            "Block #6 has been added to the blockchain!\n",
            "2915 Hashes Tried!\n",
            "Time taken to find block: 0.11272510599997076\n",
            "Hash: 000865c1c298e2b1c369c4d2440fc498a587e2ba995b702df0bad3fd3fb6698f\n",
            "\n",
            "Block #7 has been added to the blockchain!\n",
            "11131 Hashes Tried!\n",
            "Time taken to find block: 0.4371072669999876\n",
            "Hash: 0008756ecefc95d8f7ee73dba367628861e5801b9dab3c831ef5edda57f92955\n",
            "\n",
            "Block #8 has been added to the blockchain!\n",
            "6940 Hashes Tried!\n",
            "Time taken to find block: 0.27436561700000084\n",
            "Hash: 000d05c1860ab3ebe8913d3fde7a37ca9fabf4c5363435f327d401ef0ab73145\n",
            "\n",
            "Block #9 has been added to the blockchain!\n",
            "6623 Hashes Tried!\n",
            "Time taken to find block: 0.2614286350000157\n",
            "Hash: 0007f10387687e550ef7ee713b3ee4707eb1d48796d56678b4471219decb4c2e\n",
            "\n",
            "Block #10 has been added to the blockchain!\n",
            "975 Hashes Tried!\n",
            "Time taken to find block: 0.0363705350000032\n",
            "Hash: 000bd413a3fe4f3a18f5abeb50fb3ffdd5d57ab4436d636c4d013fadaf36108c\n",
            "\n",
            "Block #11 has been added to the blockchain!\n",
            "3845 Hashes Tried!\n",
            "Time taken to find block: 0.15095990899999379\n",
            "Hash: 0008302be8f67dd1dc6beafb400996ab647e0092a722378bb364f715c8a02fa0\n",
            "\n",
            "Block #12 has been added to the blockchain!\n",
            "10889 Hashes Tried!\n",
            "Time taken to find block: 0.43320019899999807\n",
            "Hash: 000c9953e8b0efdbdfad25b23512c6568ddc3543ef274c1145a8d6361f353f4d\n",
            "\n",
            "Block #13 has been added to the blockchain!\n",
            "10449 Hashes Tried!\n",
            "Time taken to find block: 0.42926360299998123\n",
            "Hash: 0002a2b2b744f9def763cc1a1c664bc32aae19d1262dd98a167ae1703f702d83\n",
            "\n",
            "Block #14 has been added to the blockchain!\n",
            "6920 Hashes Tried!\n",
            "Time taken to find block: 0.27685714100005043\n",
            "Hash: 00062c202307e1ce78b0c044e61243db725dccf0c2bf2a871f5644359dc150b0\n",
            "\n",
            "Block #15 has been added to the blockchain!\n",
            "1694 Hashes Tried!\n",
            "Time taken to find block: 0.07204213099998924\n",
            "Hash: 0005da0f1f61e6680d5897180bfa8f740caa8d23eb06cfd2d46307e5d83d713e\n",
            "\n",
            "Block #16 has been added to the blockchain!\n",
            "5434 Hashes Tried!\n",
            "Time taken to find block: 0.21079880199999934\n",
            "Hash: 00010a97c4909788df04540271d86c82c7b26cf20b2e64e1e3655d2609a7d244\n",
            "\n",
            "Block #17 has been added to the blockchain!\n",
            "13845 Hashes Tried!\n",
            "Time taken to find block: 0.5310039160000315\n",
            "Hash: 000f5388f5186929da9c2b97f0dab3103012a14ebe258036aa2a9582f53e7b57\n",
            "\n",
            "Block #18 has been added to the blockchain!\n",
            "4593 Hashes Tried!\n",
            "Time taken to find block: 0.18201896099998294\n",
            "Hash: 000da0052481c682f97461c6a5c6c28a589dae5aadae2f8cba719f908338cdd7\n",
            "\n",
            "Block #19 has been added to the blockchain!\n",
            "1903 Hashes Tried!\n",
            "Time taken to find block: 0.07697748900000079\n",
            "Hash: 0006e62ee6e0ab1ca4e297be662474f4d4fe4760ed7076bafdfa9000fd575120\n",
            "\n",
            "Block #20 has been added to the blockchain!\n",
            "4326 Hashes Tried!\n",
            "Time taken to find block: 0.16444574900003772\n",
            "Hash: 0009ecfa26995f61131a5eadb586335ea2418622f214de8e980e52f35fcffbf0\n",
            "\n"
          ]
        }
      ],
      "source": [
        "# Create the blockchain and add the genesis block\n",
        "blockchain_pow = [create_genesis_block()]\n",
        "\n",
        "#Create our initial reference to previous block which points to the genesis block\n",
        "previous_block = blockchain_pow[0]\n",
        "\n",
        "# How many blocks should we add to the chain after genesis block\n",
        "num_blocks = 20\n",
        "\n",
        "#magnitude of difficulty of hash - number of zeroes that must be in the beginning of the hash\n",
        "difficulty = 3\n",
        "\n",
        "#length of nonce that will be generated and added\n",
        "nonce_length = 20\n",
        "\n",
        "# Add blocks to the chain based on difficulty with nonces of length nonce_length\n",
        "def create_pow_blockchain(num_blocks, difficulty, blockchain_pow, previous_block, nonce_length, print_data=1):\n",
        "    hash_array = []\n",
        "    time_array = []\n",
        "    for i in range(0, num_blocks):\n",
        "        time_taken, hashes_tried, block_to_add = find_next_block(previous_block, difficulty, nonce_length)\n",
        "        blockchain_pow.append(block_to_add)\n",
        "        previous_block = block_to_add\n",
        "        hash_array.append(hashes_tried)\n",
        "        time_array.append(time_taken)\n",
        "        # Tell everyone about it!\n",
        "        if print_data:\n",
        "            print(\"Block #{} has been added to the blockchain!\".format(block_to_add.index))\n",
        "            print(\"{} Hashes Tried!\".format(hashes_tried))\n",
        "            print(\"Time taken to find block: {}\".format(time_taken))\n",
        "            print(\"Hash: {}\\n\".format(block_to_add.hash))\n",
        "    return(hash_array, time_array)\n",
        "\n",
        "hash_array, time_array = create_pow_blockchain(num_blocks, difficulty, blockchain_pow, previous_block, nonce_length)"
      ]
    },
    {
      "cell_type": "markdown",
      "metadata": {
        "id": "y19yW3GCbdgl"
      },
      "source": [
        "**TEST YOUR QUESTION 4 CODE HERE**\n",
        "\n",
        "Run the block of code below"
      ]
    },
    {
      "cell_type": "code",
      "execution_count": null,
      "metadata": {
        "id": "lAJcNxXKbdgl",
        "outputId": "2e6b1cf2-2fe0-4bf8-f028-38463f33f78b",
        "colab": {
          "base_uri": "https://localhost:8080/"
        }
      },
      "outputs": [
        {
          "output_type": "stream",
          "name": "stdout",
          "text": [
            "PASSED!!! Move on to the next Part\n"
          ]
        }
      ],
      "source": [
        "def test_question_4(blockchain_pow, num_blocks):\n",
        "    correct = True\n",
        "    bound = generate_difficulty_bound(difficulty)\n",
        "    if len(blockchain_pow) != num_blocks + 1:\n",
        "        correct = False\n",
        "    for i in range(len(blockchain_pow) - 1):\n",
        "        if blockchain_pow[i + 1].previous_hash != blockchain_pow[i].hash:\n",
        "            correct = False\n",
        "            break\n",
        "        if int(blockchain_pow[i + 1].hash, 16) > bound:\n",
        "            correct = False\n",
        "            break\n",
        "    print_statement = \"PASSED!!! Move on to the next Part\" if correct else \"FAILED!!! Try Again :(\"\n",
        "    print(print_statement)\n",
        "            \n",
        "test_question_4(blockchain_pow, num_blocks)"
      ]
    },
    {
      "cell_type": "markdown",
      "metadata": {
        "id": "OtJ78oiKbdgl"
      },
      "source": [
        "Once you have passed the above test case, you can do things like play around with the difficulties and nonce lengths and seeing that happens "
      ]
    },
    {
      "cell_type": "markdown",
      "metadata": {
        "id": "fnSDDAgibdgl"
      },
      "source": [
        "# Note: The sections below are optional but super cool!"
      ]
    },
    {
      "cell_type": "markdown",
      "metadata": {
        "id": "vSm1YlRZbdgl"
      },
      "source": [
        "# Distributed Network + Compute Power Simulation"
      ]
    },
    {
      "cell_type": "markdown",
      "metadata": {
        "id": "yRGhNBn5bdgm"
      },
      "source": [
        "In this section, instead of simulating a single node that carries out all the proof of work calculations, we will create a bunch of different nodes that will all compete to find different blocks. These nodes will all have different compute powers that we will be able to specify. Below we will define the MinerNodeNaive class which has an init function to create an instance, as well as a try_hash function that allows it to try a hash and see if it works. "
      ]
    },
    {
      "cell_type": "code",
      "execution_count": null,
      "metadata": {
        "id": "uzRNzGlobdgm"
      },
      "outputs": [],
      "source": [
        "#Naive miner class that races with other miners to see who can get a certain number of blocks first \n",
        "class MinerNodeNaive: \n",
        "    def __init__(self, name, compute):\n",
        "        self.name = name \n",
        "        self.compute = compute\n",
        "    \n",
        "    def try_hash(self, diff_value, chain):\n",
        "        last_block = chain[-1]\n",
        "        difficulty = generate_difficulty_bound(diff_value)\n",
        "        date_now = date.datetime.now()\n",
        "        this_index = last_block.index + 1\n",
        "        this_timestamp = date_now\n",
        "        this_data = \"Hey! I'm block \" + str(this_index)\n",
        "        this_hash = last_block.hash\n",
        "        new_block = Block(this_index, this_timestamp, this_data, this_hash)\n",
        "        if int(new_block.hash, 16) < difficulty:\n",
        "            chain.append(new_block)\n",
        "            # Tell everyone about it!\n",
        "            print(\"Block #{} has been added to the blockchain!\".format(new_block.index))\n",
        "            print(\"Block found by: {}\".format(self.name))\n",
        "            print(\"Hash: {}\\n\".format(new_block.hash))\n",
        "        "
      ]
    },
    {
      "cell_type": "markdown",
      "metadata": {
        "id": "7BMGu9zSbdgm"
      },
      "source": [
        "**Question #5: Describe the Following Cells**\n",
        "\n",
        "In the next 4 cells I try to simulate a bunch of different miners with different compute powers. However this isn't completely indicative of how a real system works, and is limited by what I had to work with. Read through the code, and run all of the cells and explain what is happening in a paragrpah. Also explain how this is different from real world vanilla proof of work systems and how this simulation isn't completely accurate of what's actually happening while nodes race to find the next block. There is a cell at the bottom where you can enter your description.  "
      ]
    },
    {
      "cell_type": "code",
      "execution_count": null,
      "metadata": {
        "id": "cx2vxDa1bdgm"
      },
      "outputs": [],
      "source": [
        "#Initialize multiple miners on the network \n",
        "berkeley_Miner = MinerNodeNaive(\"Berkeley Miner\", 10)\n",
        "stanford_Miner = MinerNodeNaive(\"Stanford Miner\", 5)\n",
        "MIT_Miner = MinerNodeNaive(\"MIT Miner\", 2)\n",
        "UCLA_Miner = MinerNodeNaive(\"UCLA Miner\", 1)\n",
        "\n",
        "miner_array = [berkeley_Miner, stanford_Miner, MIT_Miner, UCLA_Miner]"
      ]
    },
    {
      "cell_type": "code",
      "execution_count": null,
      "metadata": {
        "id": "CsKZHNL-bdgm"
      },
      "outputs": [],
      "source": [
        "def create_compute_simulation(miner_array):\n",
        "    compute_array = []\n",
        "    for miner in miner_array:\n",
        "        for i in range(miner.compute):\n",
        "            compute_array.append(miner.name)\n",
        "    return(compute_array)\n",
        "\n",
        "compute_simulation_array = create_compute_simulation(miner_array)\n",
        "rand.shuffle(compute_simulation_array)"
      ]
    },
    {
      "cell_type": "code",
      "execution_count": null,
      "metadata": {
        "id": "Hl3_sxQJbdgm"
      },
      "outputs": [],
      "source": [
        "chain_length = 20\n",
        "blockchain_distributed = [create_genesis_block()]\n",
        "genesis_block_dist = blockchain_distributed[0]\n",
        "chain_difficulty = [rand.randint(2,4) for i in range(chain_length)]"
      ]
    },
    {
      "cell_type": "code",
      "execution_count": null,
      "metadata": {
        "id": "IJeevcHobdgn"
      },
      "outputs": [],
      "source": [
        "for i in range(len(chain_difficulty)): \n",
        "    while len(blockchain_distributed) < i + 2:\n",
        "        next_miner_str = rand.sample(compute_simulation_array, 1)[0] \n",
        "        next_miner = berkeley_Miner #random default (go bears)\n",
        "        for miner in miner_array:\n",
        "            if next_miner_str == miner.name:\n",
        "                next_miner = miner\n",
        "        next_miner.try_hash(chain_difficulty[i], blockchain_distributed)\n",
        "        "
      ]
    },
    {
      "cell_type": "markdown",
      "metadata": {
        "id": "4QPr-_d0bdgn"
      },
      "source": [
        "**Question 5 Description Here**\n",
        "\n",
        "- Description: **#####First, we create a list of miners, each with its own computing power. Then, we create a computing simulation, this mimics how miners receive reward. E.g. miners with more computing power will appear more often, hence increasing its chance of winning.####**"
      ]
    },
    {
      "cell_type": "markdown",
      "metadata": {
        "collapsed": true,
        "id": "bLuuQ-42bdgn"
      },
      "source": [
        "# Blockchain Data Analytics"
      ]
    },
    {
      "cell_type": "markdown",
      "metadata": {
        "collapsed": true,
        "id": "FwNDQfH_bdgn"
      },
      "source": [
        "Here we will use data analytics to analyze the number of hashes we need to try before we find a valid hash, given a difficulty level. Look through the code briefly (in depth is not necessary), run all of the cells, and answer the question at the bottom. (difficulty level 3 takes a bit of time so dont be alarmed if this next cell takes a bit of time to run). "
      ]
    },
    {
      "cell_type": "code",
      "execution_count": null,
      "metadata": {
        "id": "uOFOylkybdgn",
        "outputId": "3250c60b-6a76-4e62-b7fa-eecec87d00aa",
        "colab": {
          "base_uri": "https://localhost:8080/"
        }
      },
      "outputs": [
        {
          "output_type": "stream",
          "name": "stdout",
          "text": [
            "Difficulty Level: 1 complete\n",
            "Difficulty Level: 2 complete\n",
            "Difficulty Level: 3 complete\n",
            "Difficulty Level: 4 complete\n"
          ]
        }
      ],
      "source": [
        "blockchain = [create_genesis_block()]\n",
        "previous_block = blockchain[0]\n",
        "num_blocks = 10\n",
        "\n",
        "#3 different types of difficulty to analyze\n",
        "difficulty_0 = 1\n",
        "difficulty_1 = 2\n",
        "difficulty_2 = 3\n",
        "difficulty_3 = 4\n",
        "\n",
        "nonce_length = 20\n",
        "\n",
        "hash_array_0, time_array_0 = create_pow_blockchain(num_blocks, difficulty_0, blockchain, previous_block, nonce_length, 0)\n",
        "print(\"Difficulty Level: {} complete\".format(difficulty_0))\n",
        "hash_array_1, time_array_1 = create_pow_blockchain(num_blocks, difficulty_1, blockchain, previous_block, nonce_length, 0)\n",
        "print(\"Difficulty Level: {} complete\".format(difficulty_1))\n",
        "hash_array_2, time_array_2 = create_pow_blockchain(num_blocks, difficulty_2, blockchain, previous_block, nonce_length, 0)\n",
        "print(\"Difficulty Level: {} complete\".format(difficulty_2))\n",
        "hash_array_3, time_array_3 = create_pow_blockchain(num_blocks, difficulty_3, blockchain, previous_block, nonce_length, 0)\n",
        "print(\"Difficulty Level: {} complete\".format(difficulty_3))"
      ]
    },
    {
      "cell_type": "code",
      "execution_count": null,
      "metadata": {
        "id": "QHWGNE1gbdgo"
      },
      "outputs": [],
      "source": [
        "mean_arr_hash = [np.mean(hash_array_0), np.mean(hash_array_1), np.mean(hash_array_2), np.mean(hash_array_3)]\n",
        "mean_arr_time = [np.mean(time_array_0), np.mean(time_array_1), np.mean(time_array_2), np.mean(time_array_3)]"
      ]
    },
    {
      "cell_type": "code",
      "execution_count": null,
      "metadata": {
        "id": "gQ9W6ksMbdgo",
        "colab": {
          "base_uri": "https://localhost:8080/",
          "height": 265
        },
        "outputId": "797a91b6-b661-4e26-e2ba-9d91467e72d0"
      },
      "outputs": [
        {
          "output_type": "display_data",
          "data": {
            "image/png": "[encoded data removed]",
            "text/plain": [
              "<Figure size 432x288 with 1 Axes>"
            ]
          },
          "metadata": {
            "needs_background": "light"
          }
        }
      ],
      "source": [
        "plt.plot(mean_arr_hash)\n",
        "plt.show()"
      ]
    },
    {
      "cell_type": "code",
      "execution_count": null,
      "metadata": {
        "id": "ka9SilYUbdgo",
        "colab": {
          "base_uri": "https://localhost:8080/",
          "height": 267
        },
        "outputId": "bdf6ce44-97c9-4113-d5f7-46eaade8f837"
      },
      "outputs": [
        {
          "output_type": "display_data",
          "data": {
            "image/png": "[encoded data removed]",
            "text/plain": [
              "<Figure size 432x288 with 1 Axes>"
            ]
          },
          "metadata": {
            "needs_background": "light"
          }
        }
      ],
      "source": [
        "plt.plot(mean_arr_time)\n",
        "plt.show()"
      ]
    },
    {
      "cell_type": "code",
      "execution_count": null,
      "metadata": {
        "id": "Fb7aoGZobdgo",
        "outputId": "c9b198dc-3826-45e1-8947-deae19efeac8",
        "colab": {
          "base_uri": "https://localhost:8080/"
        }
      },
      "outputs": [
        {
          "output_type": "stream",
          "name": "stdout",
          "text": [
            "Factor of difficulty increase from 1 to 2: 25.045112781954888\n",
            "Factor of difficulty increase from 2 to 3: 20.252176523566494\n",
            "Factor of difficulty increase from 3 to 4: 6.23172250222354\n"
          ]
        }
      ],
      "source": [
        "diff_factor_1 = np.mean(hash_array_1)/np.mean(hash_array_0)\n",
        "diff_factor_2 = np.mean(hash_array_2)/np.mean(hash_array_1)\n",
        "diff_factor_3 = np.mean(hash_array_3)/np.mean(hash_array_2)\n",
        "print(\"Factor of difficulty increase from 1 to 2: {}\".format(diff_factor_1))\n",
        "print(\"Factor of difficulty increase from 2 to 3: {}\".format(diff_factor_2))\n",
        "print(\"Factor of difficulty increase from 3 to 4: {}\".format(diff_factor_3))"
      ]
    },
    {
      "cell_type": "markdown",
      "metadata": {
        "id": "z-kwsLqwbdgp"
      },
      "source": [
        "**Question 6: This one is simple**\n",
        "\n",
        "Look at the factor of difficulty increase from each level to the subsequent level, printed from the cell above.\n",
        "\n",
        "What whould the factor of difficulty increase be for each level: \n",
        "\n",
        "1-2 -> 25.04\n",
        "\n",
        "2-3 -> 20.025\n",
        "\n",
        "3-4 -> 6.231"
      ]
    },
    {
      "cell_type": "markdown",
      "metadata": {
        "id": "dS2XntLYbdgp"
      },
      "source": [
        "**Check Off**\n",
        "\n",
        "If you have filled out all the skeleton code and put down your answers for the questions, let any of the instructor know and we will check you off!\n",
        "\n",
        "If you cannot finish it this class, you have until next week's class to finish check off and earn points.\n"
      ]
    }
  ],
  "metadata": {
    "kernelspec": {
      "display_name": "Python 3",
      "language": "python",
      "name": "python3"
    },
    "colab": {
      "name": "hw1.ipynb",
      "provenance": [],
      "toc_visible": true
    }
  },
  "nbformat": 4,
  "nbformat_minor": 0
}